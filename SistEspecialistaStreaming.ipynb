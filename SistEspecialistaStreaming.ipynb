{
  "nbformat": 4,
  "nbformat_minor": 0,
  "metadata": {
    "colab": {
      "provenance": [],
      "include_colab_link": true
    },
    "kernelspec": {
      "name": "python3",
      "display_name": "Python 3"
    },
    "language_info": {
      "name": "python"
    }
  },
  "cells": [
    {
      "cell_type": "markdown",
      "metadata": {
        "id": "view-in-github",
        "colab_type": "text"
      },
      "source": [
        "<a href=\"https://colab.research.google.com/github/LeonardoDrLourenco/IAII_SistemasEspecialistas/blob/main/SistEspecialistaStreaming.ipynb\" target=\"_parent\"><img src=\"https://colab.research.google.com/assets/colab-badge.svg\" alt=\"Open In Colab\"/></a>"
      ]
    },
    {
      "cell_type": "code",
      "execution_count": 7,
      "metadata": {
        "id": "CjH8A5DYeI9I"
      },
      "outputs": [],
      "source": [
        "# Base de Conhecimento\n",
        "servicos_streaming = [\n",
        "    {\"Serviço\": \"Discovery Plus\", \"Tipo de Conteúdo\": \"Documentários\", \"Preço\": \"Acessível\"},\n",
        "    {\"Serviço\": \"Netflix\", \"Tipo de Conteúdo\": \"Séries\", \"Preço\": \"Moderado\"},\n",
        "    {\"Serviço\": \"Prime Video\", \"Tipo de Conteúdo\": \"Filmes\", \"Preço\": \"Acessível\"},\n",
        "    {\"Serviço\": \"HBO MAX\", \"Tipo de Conteúdo\": \"Documentários\", \"Preço\": \"Moderado\"},\n",
        "    {\"Serviço\": \"HBO MAX\", \"Tipo de Conteúdo\": \"Documentários\", \"Preço\": \"Acessível\"},\n",
        "    {\"Serviço\": \"Disney Plus\", \"Tipo de Conteúdo\": \"Séries\", \"Preço\": \"Acessível\"},\n",
        "    {\"Serviço\": \"Apple TV\", \"Tipo de Conteúdo\": \"Filmes\", \"Preço\": \"Moderado\"},\n",
        "    # Adicione mais serviços conforme necessário\n",
        "]\n",
        "\n",
        "# Regras de Recomendação\n",
        "regras = [\n",
        "    {\"Condição\": {\"Tipo de Conteúdo\": \"Documentários\", \"Preço\": \"Acessível\"}, \"Recomendação\": [\"Discovery Plus\", \"HBO MAX\"]},\n",
        "    {\"Condição\": {\"Tipo de Conteúdo\": \"Documentários\", \"Preço\": \"Moderado\"}, \"Recomendação\": [\"HBO MAX\"]},\n",
        "    {\"Condição\": {\"Tipo de Conteúdo\": \"Séries\", \"Preço\": \"Moderado\"}, \"Recomendação\": [\"Netflix\"]},\n",
        "    {\"Condição\": {\"Tipo de Conteúdo\": \"Séries\", \"Preço\": \"Acessível\"}, \"Recomendação\": [\"Disney Plus\"]},\n",
        "    {\"Condição\": {\"Tipo de Conteúdo\": \"Filmes\", \"Preço\": \"Acessível\"}, \"Recomendação\": [\"Prime Video\"]},\n",
        "    {\"Condição\": {\"Tipo de Conteúdo\": \"Filmes\", \"Preço\": \"Moderado\"}, \"Recomendação\": [\"Apple TV\"]},\n",
        "    # Adicione mais regras conforme necessário\n",
        "]\n"
      ]
    },
    {
      "cell_type": "code",
      "source": [
        "def recomendar_servicos(preferencias):\n",
        "    recomendacoes = []\n",
        "    for regra in regras:\n",
        "        condicao = regra[\"Condição\"]\n",
        "        if (preferencias[\"Tipo de Conteúdo\"] == condicao[\"Tipo de Conteúdo\"] and\n",
        "                preferencias[\"Preço\"] == condicao[\"Preço\"]):\n",
        "            recomendacoes.extend(regra[\"Recomendação\"])\n",
        "    return recomendacoes\n"
      ],
      "metadata": {
        "id": "paQFjmBAen9M"
      },
      "execution_count": 8,
      "outputs": []
    },
    {
      "cell_type": "code",
      "source": [
        "def main():\n",
        "    # Coletar preferências do usuário\n",
        "    tipo_conteudo = input(\"Qual tipo de conteúdo você prefere? (Documentários, Séries, Filmes) \")\n",
        "    preco = input(\"Qual é o seu orçamento? (Acessível, Moderado) \")\n",
        "\n",
        "    preferencias = {\n",
        "        \"Tipo de Conteúdo\": tipo_conteudo,\n",
        "        \"Preço\": preco\n",
        "    }\n",
        "\n",
        "    # Obter recomendações\n",
        "    servicos_recomendados = recomendar_servicos(preferencias)\n",
        "\n",
        "    # Mostrar recomendações\n",
        "    if servicos_recomendados:\n",
        "        print(\"Serviços de Streaming Recomendados:\")\n",
        "        for servico in servicos_recomendados:\n",
        "            print(f\"- {servico}\")\n",
        "    else:\n",
        "        print(\"Nenhuma recomendação disponível para suas preferências.\")\n",
        "\n",
        "if __name__ == \"__main__\":\n",
        "    main()\n"
      ],
      "metadata": {
        "colab": {
          "base_uri": "https://localhost:8080/"
        },
        "id": "VVGk2FB3er-3",
        "outputId": "8c319505-c59b-4f91-e4ef-0dbd4b2f14b1"
      },
      "execution_count": 10,
      "outputs": [
        {
          "output_type": "stream",
          "name": "stdout",
          "text": [
            "Qual tipo de conteúdo você prefere? (Documentários, Séries, Filmes) Filmes\n",
            "Qual é o seu orçamento? (Acessível, Moderado) Moderado\n",
            "Serviços de Streaming Recomendados:\n",
            "- Apple TV\n"
          ]
        }
      ]
    }
  ]
}